{
 "cells": [
  {
   "cell_type": "code",
   "execution_count": null,
   "id": "senior-oregon",
   "metadata": {},
   "outputs": [],
   "source": [
    "#Python notebook to cut, paste, break, debug, and copy code"
   ]
  },
  {
   "cell_type": "code",
   "execution_count": 1,
   "id": "expired-window",
   "metadata": {},
   "outputs": [],
   "source": [
    "import pytest\n",
    "from main import *\n",
    "import pandas as pd\n",
    "from flask import Flask, request, jsonify, Response\n",
    "import re\n",
    "import matplotlib\n",
    "from matplotlib import pyplot as plt\n",
    "from io import StringIO\n",
    "import requests\n",
    "from requests.auth import HTTPBasicAuth\n",
    "import os\n"
   ]
  },
  {
   "cell_type": "code",
   "execution_count": null,
   "id": "closing-syracuse",
   "metadata": {},
   "outputs": [],
   "source": [
    "main.id=0"
   ]
  },
  {
   "cell_type": "code",
   "execution_count": null,
   "id": "bored-healing",
   "metadata": {},
   "outputs": [],
   "source": [
    "# api-endpoint\n",
    "URL = \"https://zccgainthehouse.zendesk.com/api/v2/tickets.json\"\n",
    "# sending get request and saving the response as response object\n",
    "r = requests.get(url = URL,auth = HTTPBasicAuth(*******, *********))\n",
    "# extracting data in json format\n",
    "data = r.json()\n",
    "df=pd.DataFrame(data[\"tickets\"])\n",
    "assert len(main.get_all_data())==len(df)"
   ]
  },
  {
   "cell_type": "code",
   "execution_count": 4,
   "id": "changing-exercise",
   "metadata": {},
   "outputs": [],
   "source": [
    "URL = \"https://zccgainthehouse.zendesk.com/api/v2/tickets/1\"\n",
    "        # sending get request and saving the response as response object\n",
    "r = requests.get(url = URL,auth = HTTPBasicAuth(\"gagarwal8@wisc.edu\", \"9967323080\"))\n",
    "        # extracting data in json format\n",
    "data = r.json()"
   ]
  },
  {
   "cell_type": "code",
   "execution_count": null,
   "id": "charming-evans",
   "metadata": {},
   "outputs": [],
   "source": [
    "import main\n",
    "from collections import namedtuple\n",
    "\n",
    "TestFunc = namedtuple(\"TestFunc\", [\"fn\",\"cases\"])\n",
    "tests = []\n",
    "\n",
    "# if @test(...) decorator is before a function, add that function to test_fucns\n",
    "def test(cases):\n",
    "    def add_test(fn):\n",
    "        tests.append(TestFunc(fn,cases))\n",
    "    return add_test\n",
    "\n",
    "@test(cases=1)\n",
    "def test01():\n",
    "    html=get_one_ticket()\n",
    "    print(html)\n",
    "\n",
    "if __name__ == \"__main__\":\n",
    "    test01()\n",
    "    "
   ]
  },
  {
   "cell_type": "code",
   "execution_count": 4,
   "id": "empty-mountain",
   "metadata": {},
   "outputs": [
    {
     "name": "stdout",
     "output_type": "stream",
     "text": [
      "1\n",
      "4\n",
      "4\n",
      "[<zip object at 0x7f6b5cc7cf08>, <zip object at 0x7f6b5cc7c508>, <zip object at 0x7f6b5cc7cc48>, <zip object at 0x7f6b5cc7cbc8>, <zip object at 0x7f6b5cc7ce08>, <zip object at 0x7f6b9502f1c8>, <zip object at 0x7f6b91977708>, <zip object at 0x7f6b5cbfbf48>, <zip object at 0x7f6b5cbfb088>, <zip object at 0x7f6b5cbfb308>, <zip object at 0x7f6b5cbfb508>, <zip object at 0x7f6b5cbfb708>, <zip object at 0x7f6b5cbfb888>, <zip object at 0x7f6b5cbfb848>, <zip object at 0x7f6b5cbfb108>, <zip object at 0x7f6b5cbfb388>, <zip object at 0x7f6b5cbfb288>, <zip object at 0x7f6b5cbfb488>, <zip object at 0x7f6b5cbfb3c8>, <zip object at 0x7f6b5cbfb448>, <zip object at 0x7f6b5cbfb788>, <zip object at 0x7f6b5cbfb688>, <zip object at 0x7f6b5cbfbf08>, <zip object at 0x7f6b5cbfbe48>, <zip object at 0x7f6b5cbfbe88>]\n"
     ]
    }
   ],
   "source": [
    "from bs4 import BeautifulSoup\n",
    "\n",
    "output=all_tickets()\n",
    "soup = BeautifulSoup(output,features=\"html.parser\")\n",
    "table = soup.find(\"table\")\n",
    "\n",
    "# The first 2 tr contains the field names.\n",
    "headings = [th.get_text() for th in table.find(\"tr\").find_all(\"th\")]\n",
    "headings.insert(0,\"id\")\n",
    "\n",
    "datasets = []\n",
    "for row in table.find_all(\"tr\")[2:]:\n",
    "    dataset = zip(headings, (td.get_text() for td in row.find_all(\"td\")))\n",
    "    datasets.append(dataset)\n",
    "\n",
    "print(datasets)"
   ]
  },
  {
   "cell_type": "code",
   "execution_count": 5,
   "id": "theoretical-floor",
   "metadata": {},
   "outputs": [],
   "source": [
    "df = pd.DataFrame(datasets)"
   ]
  },
  {
   "cell_type": "code",
   "execution_count": 6,
   "id": "stock-forwarding",
   "metadata": {},
   "outputs": [
    {
     "data": {
      "text/html": [
       "<div>\n",
       "<style scoped>\n",
       "    .dataframe tbody tr th:only-of-type {\n",
       "        vertical-align: middle;\n",
       "    }\n",
       "\n",
       "    .dataframe tbody tr th {\n",
       "        vertical-align: top;\n",
       "    }\n",
       "\n",
       "    .dataframe thead th {\n",
       "        text-align: right;\n",
       "    }\n",
       "</style>\n",
       "<table border=\"1\" class=\"dataframe\">\n",
       "  <thead>\n",
       "    <tr style=\"text-align: right;\">\n",
       "      <th></th>\n",
       "      <th>0</th>\n",
       "      <th>1</th>\n",
       "    </tr>\n",
       "  </thead>\n",
       "  <tbody>\n",
       "    <tr>\n",
       "      <th>0</th>\n",
       "      <td>(id, in labore quis mollit mollit)</td>\n",
       "      <td>(, open)</td>\n",
       "    </tr>\n",
       "    <tr>\n",
       "      <th>1</th>\n",
       "      <td>(id, ut magna eiusmod magna nostrud)</td>\n",
       "      <td>(, open)</td>\n",
       "    </tr>\n",
       "    <tr>\n",
       "      <th>2</th>\n",
       "      <td>(id, magna consequat ut ullamco magna)</td>\n",
       "      <td>(, open)</td>\n",
       "    </tr>\n",
       "    <tr>\n",
       "      <th>3</th>\n",
       "      <td>(id, irure pariatur aliquip dolore esse)</td>\n",
       "      <td>(, open)</td>\n",
       "    </tr>\n",
       "    <tr>\n",
       "      <th>4</th>\n",
       "      <td>(id, officia esse nostrud est exercitation)</td>\n",
       "      <td>(, open)</td>\n",
       "    </tr>\n",
       "    <tr>\n",
       "      <th>5</th>\n",
       "      <td>(id, aute ipsum sint exercitation labore)</td>\n",
       "      <td>(, open)</td>\n",
       "    </tr>\n",
       "    <tr>\n",
       "      <th>6</th>\n",
       "      <td>(id, velit irure elit incididunt non)</td>\n",
       "      <td>(, open)</td>\n",
       "    </tr>\n",
       "    <tr>\n",
       "      <th>7</th>\n",
       "      <td>(id, fugiat non aliqua irure aliquip)</td>\n",
       "      <td>(, open)</td>\n",
       "    </tr>\n",
       "    <tr>\n",
       "      <th>8</th>\n",
       "      <td>(id, proident esse ut velit labore)</td>\n",
       "      <td>(, open)</td>\n",
       "    </tr>\n",
       "    <tr>\n",
       "      <th>9</th>\n",
       "      <td>(id, laboris et proident qui enim)</td>\n",
       "      <td>(, open)</td>\n",
       "    </tr>\n",
       "    <tr>\n",
       "      <th>10</th>\n",
       "      <td>(id, in id consequat dolore enim)</td>\n",
       "      <td>(, open)</td>\n",
       "    </tr>\n",
       "    <tr>\n",
       "      <th>11</th>\n",
       "      <td>(id, enim duis deserunt ipsum ad)</td>\n",
       "      <td>(, open)</td>\n",
       "    </tr>\n",
       "    <tr>\n",
       "      <th>12</th>\n",
       "      <td>(id, ipsum ex id minim eu)</td>\n",
       "      <td>(, open)</td>\n",
       "    </tr>\n",
       "    <tr>\n",
       "      <th>13</th>\n",
       "      <td>(id, incididunt mollit pariatur esse esse)</td>\n",
       "      <td>(, open)</td>\n",
       "    </tr>\n",
       "    <tr>\n",
       "      <th>14</th>\n",
       "      <td>(id, sit pariatur nisi reprehenderit sit)</td>\n",
       "      <td>(, open)</td>\n",
       "    </tr>\n",
       "    <tr>\n",
       "      <th>15</th>\n",
       "      <td>(id, amet ipsum amet laborum sit)</td>\n",
       "      <td>(, open)</td>\n",
       "    </tr>\n",
       "    <tr>\n",
       "      <th>16</th>\n",
       "      <td>(id, ut anim tempor voluptate deserunt)</td>\n",
       "      <td>(, open)</td>\n",
       "    </tr>\n",
       "    <tr>\n",
       "      <th>17</th>\n",
       "      <td>(id, eu id magna aute occaecat)</td>\n",
       "      <td>(, open)</td>\n",
       "    </tr>\n",
       "    <tr>\n",
       "      <th>18</th>\n",
       "      <td>(id, velit in sit deserunt id)</td>\n",
       "      <td>(, open)</td>\n",
       "    </tr>\n",
       "    <tr>\n",
       "      <th>19</th>\n",
       "      <td>(id, proident esse laboris officia pariatur)</td>\n",
       "      <td>(, open)</td>\n",
       "    </tr>\n",
       "    <tr>\n",
       "      <th>20</th>\n",
       "      <td>(id, irure esse irure qui dolore)</td>\n",
       "      <td>(, open)</td>\n",
       "    </tr>\n",
       "    <tr>\n",
       "      <th>21</th>\n",
       "      <td>(id, officia voluptate sit sunt pariatur)</td>\n",
       "      <td>(, open)</td>\n",
       "    </tr>\n",
       "    <tr>\n",
       "      <th>22</th>\n",
       "      <td>(id, sunt dolore excepteur laborum magna)</td>\n",
       "      <td>(, open)</td>\n",
       "    </tr>\n",
       "    <tr>\n",
       "      <th>23</th>\n",
       "      <td>(id, qui voluptate culpa do tempor)</td>\n",
       "      <td>(, open)</td>\n",
       "    </tr>\n",
       "    <tr>\n",
       "      <th>24</th>\n",
       "      <td>(id, officia magna velit nostrud ullamco)</td>\n",
       "      <td>(, open)</td>\n",
       "    </tr>\n",
       "  </tbody>\n",
       "</table>\n",
       "</div>"
      ],
      "text/plain": [
       "                                               0         1\n",
       "0             (id, in labore quis mollit mollit)  (, open)\n",
       "1           (id, ut magna eiusmod magna nostrud)  (, open)\n",
       "2         (id, magna consequat ut ullamco magna)  (, open)\n",
       "3       (id, irure pariatur aliquip dolore esse)  (, open)\n",
       "4    (id, officia esse nostrud est exercitation)  (, open)\n",
       "5      (id, aute ipsum sint exercitation labore)  (, open)\n",
       "6          (id, velit irure elit incididunt non)  (, open)\n",
       "7          (id, fugiat non aliqua irure aliquip)  (, open)\n",
       "8            (id, proident esse ut velit labore)  (, open)\n",
       "9             (id, laboris et proident qui enim)  (, open)\n",
       "10             (id, in id consequat dolore enim)  (, open)\n",
       "11             (id, enim duis deserunt ipsum ad)  (, open)\n",
       "12                    (id, ipsum ex id minim eu)  (, open)\n",
       "13    (id, incididunt mollit pariatur esse esse)  (, open)\n",
       "14     (id, sit pariatur nisi reprehenderit sit)  (, open)\n",
       "15             (id, amet ipsum amet laborum sit)  (, open)\n",
       "16       (id, ut anim tempor voluptate deserunt)  (, open)\n",
       "17               (id, eu id magna aute occaecat)  (, open)\n",
       "18                (id, velit in sit deserunt id)  (, open)\n",
       "19  (id, proident esse laboris officia pariatur)  (, open)\n",
       "20             (id, irure esse irure qui dolore)  (, open)\n",
       "21     (id, officia voluptate sit sunt pariatur)  (, open)\n",
       "22     (id, sunt dolore excepteur laborum magna)  (, open)\n",
       "23           (id, qui voluptate culpa do tempor)  (, open)\n",
       "24     (id, officia magna velit nostrud ullamco)  (, open)"
      ]
     },
     "execution_count": 6,
     "metadata": {},
     "output_type": "execute_result"
    }
   ],
   "source": [
    "df"
   ]
  },
  {
   "cell_type": "code",
   "execution_count": 5,
   "id": "maritime-discussion",
   "metadata": {},
   "outputs": [
    {
     "data": {
      "text/plain": [
       "{'error': {'title': 'No help desk at zccgainthehouse.zendesk.com',\n",
       "  'message': 'The help desk configured at this address is no longer available.'}}"
      ]
     },
     "execution_count": 5,
     "metadata": {},
     "output_type": "execute_result"
    }
   ],
   "source": [
    "data"
   ]
  },
  {
   "cell_type": "code",
   "execution_count": 6,
   "id": "macro-portuguese",
   "metadata": {},
   "outputs": [],
   "source": [
    "s=\"Hi\"\n",
    "s+= \"Hello\"+\"how\""
   ]
  },
  {
   "cell_type": "code",
   "execution_count": 7,
   "id": "selected-royalty",
   "metadata": {},
   "outputs": [
    {
     "data": {
      "text/plain": [
       "'HiHellohow'"
      ]
     },
     "execution_count": 7,
     "metadata": {},
     "output_type": "execute_result"
    }
   ],
   "source": [
    "s"
   ]
  },
  {
   "cell_type": "code",
   "execution_count": 9,
   "id": "offshore-gibraltar",
   "metadata": {},
   "outputs": [
    {
     "ename": "TypeError",
     "evalue": "'str' object does not support item assignment",
     "output_type": "error",
     "traceback": [
      "\u001b[0;31m---------------------------------------------------------------------------\u001b[0m",
      "\u001b[0;31mTypeError\u001b[0m                                 Traceback (most recent call last)",
      "\u001b[0;32m<ipython-input-9-6d931f04ca1f>\u001b[0m in \u001b[0;36m<module>\u001b[0;34m\u001b[0m\n\u001b[0;32m----> 1\u001b[0;31m \u001b[0ms\u001b[0m\u001b[0;34m[\u001b[0m\u001b[0;36m0\u001b[0m\u001b[0;34m]\u001b[0m\u001b[0;34m=\u001b[0m\u001b[0;34m\"I\"\u001b[0m\u001b[0;34m\u001b[0m\u001b[0;34m\u001b[0m\u001b[0m\n\u001b[0m",
      "\u001b[0;31mTypeError\u001b[0m: 'str' object does not support item assignment"
     ]
    }
   ],
   "source": [
    "s[0]=\"I\""
   ]
  },
  {
   "cell_type": "code",
   "execution_count": null,
   "id": "nonprofit-procedure",
   "metadata": {},
   "outputs": [],
   "source": [
    "URL=\"https://example.zendesk.com/api/v2/tickets.json?page[size]=25\"\n",
    "# api-endpoint\n",
    "#URL = \"https://zccgainthehouse.zendesk.com/api/v2/tickets.json\"\n",
    "# sending get request and saving the response as response object\n",
    "r = requests.get(url = URL,auth = HTTPBasicAuth(*******, *********))\n",
    "# extracting data in json format\n",
    "data = r.json()\n",
    "df=pd.DataFrame(data[\"tickets\"])\n",
    "links=data[\"links\"]\n",
    "next_link=links[\"next\"]\n",
    "prev_link=links[\"prev\"]\n",
    "#assert len(main.get_all_data())==len(df)"
   ]
  },
  {
   "cell_type": "code",
   "execution_count": null,
   "id": "respected-operator",
   "metadata": {},
   "outputs": [],
   "source": [
    "with open(\"new_trial.html\") as f:\n",
    "        html = f.read()\n",
    "\n",
    "html_link=\"<a href=\\\"\"+next_link+\"\\\">next</a>\"\n",
    "html.replace(\"next\",html_link)"
   ]
  },
  {
   "cell_type": "code",
   "execution_count": null,
   "id": "imposed-hierarchy",
   "metadata": {},
   "outputs": [],
   "source": [
    "URL=\"https://example.zendesk.com/api/v2/tickets.json?include=comment_count\"\n",
    "# api-endpoint\n",
    "#URL = \"https://zccgainthehouse.zendesk.com/api/v2/tickets.json\"\n",
    "# sending get request and saving the response as response object\n",
    "r = requests.get(url = URL,auth = HTTPBasicAuth(*******, *********))\n",
    "# extracting data in json format\n",
    "data = r.json()\n",
    "df=pd.DataFrame(data[\"tickets\"])\n",
    "requester_id=data[\"requester_id\"]"
   ]
  },
  {
   "cell_type": "code",
   "execution_count": null,
   "id": "marine-serial",
   "metadata": {},
   "outputs": [],
   "source": [
    "#api/v2/users.json \n",
    "URL_users=\"https://example.zendesk.com/api/v2/users/\"+str(requester_id)\n",
    "r2 = requests.get(url = URL_users,auth = HTTPBasicAuth(*******, *********))\n",
    "data_user=r2.json()\n",
    "user_email=data_user[\"email_id\"]\n",
    "user_email_html=\"User Email Id: \"+user_email\n",
    "html.replace(\"User Email Id\",user_email_html)"
   ]
  }
 ],
 "metadata": {
  "kernelspec": {
   "display_name": "Python 3",
   "language": "python",
   "name": "python3"
  },
  "language_info": {
   "codemirror_mode": {
    "name": "ipython",
    "version": 3
   },
   "file_extension": ".py",
   "mimetype": "text/x-python",
   "name": "python",
   "nbconvert_exporter": "python",
   "pygments_lexer": "ipython3",
   "version": "3.6.9"
  }
 },
 "nbformat": 4,
 "nbformat_minor": 5
}
